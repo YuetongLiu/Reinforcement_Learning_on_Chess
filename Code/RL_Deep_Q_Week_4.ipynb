{
 "cells": [
  {
   "cell_type": "markdown",
   "metadata": {},
   "source": [
    "# Import Package"
   ]
  },
  {
   "cell_type": "code",
   "execution_count": 1,
   "metadata": {
    "scrolled": true
   },
   "outputs": [],
   "source": [
    "import pyvirtualdisplay\n",
    "import matplotlib.pyplot as plt\n",
    "import tensorflow as tf\n",
    "from tf_agents.agents.dqn import dqn_agent\n",
    "from tf_agents.environments import suite_gym\n",
    "from tf_agents.environments import tf_py_environment\n",
    "from tf_agents.networks import q_network\n",
    "from tf_agents.utils import common\n",
    "from tf_agents.replay_buffers import tf_uniform_replay_buffer\n",
    "from tf_agents.trajectories import trajectory\n",
    "import PIL.Image\n",
    "from tf_agents.policies import random_tf_policy"
   ]
  },
  {
   "cell_type": "code",
   "execution_count": 2,
   "metadata": {},
   "outputs": [],
   "source": [
    "tf.compat.v1.enable_v2_behavior()\n",
    "# Set up a virtual display for rendering OpenAI gym environments.\n",
    "#display = pyvirtualdisplay.Display(visible=0, size=(1400, 900)).start()"
   ]
  },
  {
   "cell_type": "markdown",
   "metadata": {},
   "source": [
    "# Hyperparameters"
   ]
  },
  {
   "cell_type": "code",
   "execution_count": 3,
   "metadata": {},
   "outputs": [],
   "source": [
    "num_iterations = 20000 # @param {type:\"integer\"}\n",
    "\n",
    "initial_collect_steps = 100  # @param {type:\"integer\"} \n",
    "collect_steps_per_iteration = 1  # @param {type:\"integer\"}\n",
    "replay_buffer_max_length = 100000  # @param {type:\"integer\"}\n",
    "\n",
    "batch_size = 64  # @param {type:\"integer\"}\n",
    "learning_rate = 1e-3  # @param {type:\"number\"}\n",
    "log_interval = 200  # @param {type:\"integer\"}\n",
    "\n",
    "num_eval_episodes = 10  # @param {type:\"integer\"}\n",
    "eval_interval = 1000  # @param {type:\"integer\"}"
   ]
  },
  {
   "cell_type": "markdown",
   "metadata": {},
   "source": [
    "# Environment"
   ]
  },
  {
   "cell_type": "code",
   "execution_count": 4,
   "metadata": {},
   "outputs": [],
   "source": [
    "env_name = 'CartPole-v0'\n",
    "env = suite_gym.load(env_name)"
   ]
  },
  {
   "cell_type": "code",
   "execution_count": 5,
   "metadata": {},
   "outputs": [],
   "source": [
    "# Train and Evaluation(Testing)\n",
    "train_py_env = suite_gym.load(env_name)\n",
    "eval_py_env = suite_gym.load(env_name)\n",
    "\n",
    "# Python to TF\n",
    "train_env = tf_py_environment.TFPyEnvironment(train_py_env)\n",
    "eval_env = tf_py_environment.TFPyEnvironment(eval_py_env)"
   ]
  },
  {
   "cell_type": "markdown",
   "metadata": {},
   "source": [
    "# Agent / Algorithm"
   ]
  },
  {
   "cell_type": "markdown",
   "metadata": {},
   "source": [
    "Y(s,a,r,s′)=r+γmaxa′Qθ−(s′,a′)\n",
    "\n",
    "L(θ)=𝔼(s,a,r,s′)∼U(D)[(Y(s,a,r,s′)−Qθ(s,a))2]"
   ]
  },
  {
   "cell_type": "markdown",
   "metadata": {},
   "source": [
    "## Create a QNetwork\n",
    "Feed Forward network"
   ]
  },
  {
   "cell_type": "code",
   "execution_count": 6,
   "metadata": {},
   "outputs": [],
   "source": [
    "fc_layer_params = (100,) # initial_collect_steps? input layer?\n",
    "\n",
    "q_net = q_network.QNetwork(\n",
    "    train_env.observation_spec(),\n",
    "    train_env.action_spec(),\n",
    "    # A list of fully_connected parameters, \n",
    "    # where each item is the number of units in the layer\n",
    "    fc_layer_params=fc_layer_params) \n",
    "#q_net"
   ]
  },
  {
   "cell_type": "markdown",
   "metadata": {},
   "source": [
    "## Instantiate a DqnAgent \n",
    "\n",
    "Implements the DQN algorithm from\n",
    "\n",
    "\"Human level control through deep reinforcement learning\" Mnih et al., 2015\n",
    "\n",
    "https://storage.googleapis.com/deepmind-media/dqn/DQNNaturePaper.pdf"
   ]
  },
  {
   "cell_type": "code",
   "execution_count": 7,
   "metadata": {},
   "outputs": [],
   "source": [
    "optimizer = tf.compat.v1.train.AdamOptimizer(learning_rate=learning_rate) # Adam algorithm\n",
    "\n",
    "train_step_counter = tf.Variable(0)\n",
    "\n",
    "agent = dqn_agent.DqnAgent(\n",
    "    train_env.time_step_spec(),\n",
    "    train_env.action_spec(),\n",
    "    q_network=q_net,\n",
    "    optimizer=optimizer, # AdamOptimizer function\n",
    "    td_errors_loss_fn=common.element_wise_squared_loss, # loss function\n",
    "    train_step_counter=train_step_counter) # integer step counter\n",
    "\n",
    "agent.initialize()\n"
   ]
  },
  {
   "cell_type": "markdown",
   "metadata": {},
   "source": [
    "## Policies/Rules\n",
    "\n",
    "The rules will return an action to produce the desired rewards"
   ]
  },
  {
   "cell_type": "code",
   "execution_count": 8,
   "metadata": {},
   "outputs": [],
   "source": [
    "eval_policy = agent.policy # The main policy that is used for evaluation and deployment.\n",
    "collect_policy = agent.collect_policy # A second policy that is used for data collection."
   ]
  },
  {
   "cell_type": "markdown",
   "metadata": {},
   "source": [
    "# Evaluation\n",
    "Computes the average return of a policy per episode."
   ]
  },
  {
   "cell_type": "code",
   "execution_count": 9,
   "metadata": {},
   "outputs": [],
   "source": [
    "def compute_avg_return(environment, policy, num_episodes=10):\n",
    "\n",
    "  total_return = 0.0\n",
    "  for _ in range(num_episodes):\n",
    "\n",
    "    time_step = environment.reset()\n",
    "    episode_return = 0.0\n",
    "\n",
    "    while not time_step.is_last():\n",
    "      action_step = policy.action(time_step)\n",
    "      time_step = environment.step(action_step.action)\n",
    "      episode_return += time_step.reward\n",
    "    total_return += episode_return\n",
    "\n",
    "  avg_return = total_return / num_episodes\n",
    "  return avg_return.numpy()[0]"
   ]
  },
  {
   "cell_type": "markdown",
   "metadata": {},
   "source": [
    "Show baseline performance by randomly selection."
   ]
  },
  {
   "cell_type": "code",
   "execution_count": 10,
   "metadata": {},
   "outputs": [
    {
     "data": {
      "text/plain": [
       "18.7"
      ]
     },
     "execution_count": 10,
     "metadata": {},
     "output_type": "execute_result"
    }
   ],
   "source": [
    "random_policy = random_tf_policy.RandomTFPolicy(train_env.time_step_spec(),\n",
    "                                                train_env.action_spec())\n",
    "compute_avg_return(eval_env, random_policy, num_eval_episodes)"
   ]
  },
  {
   "cell_type": "markdown",
   "metadata": {},
   "source": [
    "# Data Collection"
   ]
  },
  {
   "cell_type": "markdown",
   "metadata": {},
   "source": [
    "## Replay Buffer\n",
    "Dictionary?"
   ]
  },
  {
   "cell_type": "code",
   "execution_count": 11,
   "metadata": {},
   "outputs": [
    {
     "data": {
      "text/plain": [
       "(Trajectory(step_type=TensorSpec(shape=(), dtype=tf.int32, name='step_type'), observation=BoundedTensorSpec(shape=(4,), dtype=tf.float32, name='observation', minimum=array([-4.8000002e+00, -3.4028235e+38, -4.1887903e-01, -3.4028235e+38],\n",
       "       dtype=float32), maximum=array([4.8000002e+00, 3.4028235e+38, 4.1887903e-01, 3.4028235e+38],\n",
       "       dtype=float32)), action=BoundedTensorSpec(shape=(), dtype=tf.int64, name='action', minimum=array(0), maximum=array(1)), policy_info=(), next_step_type=TensorSpec(shape=(), dtype=tf.int32, name='step_type'), reward=TensorSpec(shape=(), dtype=tf.float32, name='reward'), discount=BoundedTensorSpec(shape=(), dtype=tf.float32, name='discount', minimum=array(0., dtype=float32), maximum=array(1., dtype=float32))),\n",
       " ('step_type',\n",
       "  'observation',\n",
       "  'action',\n",
       "  'policy_info',\n",
       "  'next_step_type',\n",
       "  'reward',\n",
       "  'discount'))"
      ]
     },
     "execution_count": 11,
     "metadata": {},
     "output_type": "execute_result"
    }
   ],
   "source": [
    "replay_buffer = tf_uniform_replay_buffer.TFUniformReplayBuffer(\n",
    "    data_spec=agent.collect_data_spec,\n",
    "    batch_size=train_env.batch_size,\n",
    "    # The maximum number of items that can be stored in a \n",
    "    # single batch segment of the buffer\n",
    "    max_length=replay_buffer_max_length) \n",
    "\n",
    "agent.collect_data_spec, agent.collect_data_spec._fields"
   ]
  },
  {
   "cell_type": "markdown",
   "metadata": {},
   "source": [
    "Recording the data in the replay buffer."
   ]
  },
  {
   "cell_type": "code",
   "execution_count": 12,
   "metadata": {},
   "outputs": [],
   "source": [
    "def collect_step(environment, policy, buffer):\n",
    "  time_step = environment.current_time_step()\n",
    "  action_step = policy.action(time_step)\n",
    "  next_time_step = environment.step(action_step.action)\n",
    "  traj = trajectory.from_transition(time_step, action_step, next_time_step)\n",
    "\n",
    "  # Add trajectory to the replay buffer\n",
    "  buffer.add_batch(traj)\n",
    "\n",
    "def collect_data(env, policy, buffer, steps):\n",
    "  for _ in range(steps):\n",
    "    collect_step(env, policy, buffer)\n",
    "\n",
    "collect_data(train_env, random_policy, replay_buffer, initial_collect_steps)\n"
   ]
  },
  {
   "cell_type": "markdown",
   "metadata": {},
   "source": [
    "Covert the dictionary as a data set and return an iterator."
   ]
  },
  {
   "cell_type": "code",
   "execution_count": 13,
   "metadata": {},
   "outputs": [
    {
     "name": "stdout",
     "output_type": "stream",
     "text": [
      "WARNING:tensorflow:From /opt/anaconda3/lib/python3.8/site-packages/tensorflow/python/autograph/operators/control_flow.py:1004: ReplayBuffer.get_next (from tf_agents.replay_buffers.replay_buffer) is deprecated and will be removed in a future version.\n",
      "Instructions for updating:\n",
      "Use `as_dataset(..., single_deterministic_pass=False) instead.\n"
     ]
    }
   ],
   "source": [
    "dataset = replay_buffer.as_dataset(\n",
    "    num_parallel_calls=3, \n",
    "    sample_batch_size=batch_size, \n",
    "    num_steps=2).prefetch(3)\n",
    "#dataset\n",
    "iterator = iter(dataset)"
   ]
  },
  {
   "cell_type": "markdown",
   "metadata": {},
   "source": [
    "# Train\n",
    "\n",
    "Two things must happen during the training loop:\n",
    "\n",
    "collect data from the environment\n",
    "\n",
    "use that data to train the agent's neural network(s)"
   ]
  },
  {
   "cell_type": "code",
   "execution_count": 14,
   "metadata": {},
   "outputs": [
    {
     "name": "stdout",
     "output_type": "stream",
     "text": [
      "WARNING:tensorflow:From /opt/anaconda3/lib/python3.8/site-packages/tensorflow/python/util/dispatch.py:201: calling foldr_v2 (from tensorflow.python.ops.functional_ops) with back_prop=False is deprecated and will be removed in a future version.\n",
      "Instructions for updating:\n",
      "back_prop=False is deprecated. Consider using tf.stop_gradient instead.\n",
      "Instead of:\n",
      "results = tf.foldr(fn, elems, back_prop=False)\n",
      "Use:\n",
      "results = tf.nest.map_structure(tf.stop_gradient, tf.foldr(fn, elems))\n",
      "step = 200: loss = 18.008861541748047\n",
      "step = 400: loss = 5.086471080780029\n",
      "step = 600: loss = 15.28239631652832\n",
      "step = 800: loss = 9.468496322631836\n",
      "step = 1000: loss = 11.550569534301758\n",
      "step = 1000: Average Return = 15.699999809265137\n",
      "step = 1200: loss = 35.28739929199219\n",
      "step = 1400: loss = 2.0952863693237305\n",
      "step = 1600: loss = 2.0557005405426025\n",
      "step = 1800: loss = 25.886310577392578\n",
      "step = 2000: loss = 5.963220119476318\n",
      "step = 2000: Average Return = 24.299999237060547\n",
      "step = 2200: loss = 11.770583152770996\n",
      "step = 2400: loss = 8.902961730957031\n",
      "step = 2600: loss = 37.822486877441406\n",
      "step = 2800: loss = 6.025323867797852\n",
      "step = 3000: loss = 9.689393043518066\n",
      "step = 3000: Average Return = 110.4000015258789\n",
      "step = 3200: loss = 22.36556625366211\n",
      "step = 3400: loss = 32.306640625\n",
      "step = 3600: loss = 15.72234058380127\n",
      "step = 3800: loss = 6.93696403503418\n",
      "step = 4000: loss = 50.098915100097656\n",
      "step = 4000: Average Return = 90.0\n",
      "step = 4200: loss = 47.52417755126953\n",
      "step = 4400: loss = 155.73275756835938\n",
      "step = 4600: loss = 153.7744140625\n",
      "step = 4800: loss = 112.13093566894531\n",
      "step = 5000: loss = 15.244081497192383\n",
      "step = 5000: Average Return = 114.5999984741211\n",
      "step = 5200: loss = 21.695892333984375\n",
      "step = 5400: loss = 5.562005996704102\n",
      "step = 5600: loss = 6.435539245605469\n",
      "step = 5800: loss = 59.24911117553711\n",
      "step = 6000: loss = 7.506043910980225\n",
      "step = 6000: Average Return = 160.0\n",
      "step = 6200: loss = 65.04222869873047\n",
      "step = 6400: loss = 217.68240356445312\n",
      "step = 6600: loss = 174.95286560058594\n",
      "step = 6800: loss = 164.0635528564453\n",
      "step = 7000: loss = 10.535503387451172\n",
      "step = 7000: Average Return = 114.69999694824219\n",
      "step = 7200: loss = 117.93932342529297\n",
      "step = 7400: loss = 67.07676696777344\n",
      "step = 7600: loss = 10.39604377746582\n",
      "step = 7800: loss = 67.12391662597656\n",
      "step = 8000: loss = 105.36053466796875\n",
      "step = 8000: Average Return = 198.5\n",
      "step = 8200: loss = 118.29344177246094\n",
      "step = 8400: loss = 140.25460815429688\n",
      "step = 8600: loss = 30.344758987426758\n",
      "step = 8800: loss = 11.699833869934082\n",
      "step = 9000: loss = 476.17034912109375\n",
      "step = 9000: Average Return = 176.1999969482422\n",
      "step = 9200: loss = 451.31793212890625\n",
      "step = 9400: loss = 20.707763671875\n",
      "step = 9600: loss = 28.288009643554688\n",
      "step = 9800: loss = 125.00628662109375\n",
      "step = 10000: loss = 165.96885681152344\n",
      "step = 10000: Average Return = 164.39999389648438\n",
      "step = 10200: loss = 234.79196166992188\n",
      "step = 10400: loss = 34.319217681884766\n",
      "step = 10600: loss = 73.28331756591797\n",
      "step = 10800: loss = 21.278406143188477\n",
      "step = 11000: loss = 207.4669189453125\n",
      "step = 11000: Average Return = 196.5\n",
      "step = 11200: loss = 9.321070671081543\n",
      "step = 11400: loss = 34.81235885620117\n",
      "step = 11600: loss = 24.20108985900879\n",
      "step = 11800: loss = 218.18382263183594\n",
      "step = 12000: loss = 54.903507232666016\n",
      "step = 12000: Average Return = 200.0\n",
      "step = 12200: loss = 696.0888061523438\n",
      "step = 12400: loss = 118.06753540039062\n",
      "step = 12600: loss = 29.727664947509766\n",
      "step = 12800: loss = 172.8981475830078\n",
      "step = 13000: loss = 36.71021270751953\n",
      "step = 13000: Average Return = 200.0\n",
      "step = 13200: loss = 43.96297836303711\n",
      "step = 13400: loss = 187.39060974121094\n",
      "step = 13600: loss = 699.5609741210938\n",
      "step = 13800: loss = 43.06932830810547\n",
      "step = 14000: loss = 262.7250061035156\n",
      "step = 14000: Average Return = 199.5\n",
      "step = 14200: loss = 44.86981201171875\n",
      "step = 14400: loss = 788.365966796875\n",
      "step = 14600: loss = 186.86534118652344\n",
      "step = 14800: loss = 34.16826248168945\n",
      "step = 15000: loss = 68.5713882446289\n",
      "step = 15000: Average Return = 200.0\n",
      "step = 15200: loss = 36.6361083984375\n",
      "step = 15400: loss = 67.6352767944336\n",
      "step = 15600: loss = 88.42098999023438\n",
      "step = 15800: loss = 66.49943542480469\n",
      "step = 16000: loss = 34.3782958984375\n",
      "step = 16000: Average Return = 200.0\n",
      "step = 16200: loss = 51.016273498535156\n",
      "step = 16400: loss = 979.0067138671875\n",
      "step = 16600: loss = 20.1558780670166\n",
      "step = 16800: loss = 74.05459594726562\n",
      "step = 17000: loss = 27.95159912109375\n",
      "step = 17000: Average Return = 200.0\n",
      "step = 17200: loss = 149.70065307617188\n",
      "step = 17400: loss = 16.747379302978516\n",
      "step = 17600: loss = 678.1433715820312\n",
      "step = 17800: loss = 41.89617919921875\n",
      "step = 18000: loss = 609.5775756835938\n",
      "step = 18000: Average Return = 200.0\n",
      "step = 18200: loss = 454.809326171875\n",
      "step = 18400: loss = 48.18207550048828\n",
      "step = 18600: loss = 48.29536437988281\n",
      "step = 18800: loss = 122.12271118164062\n",
      "step = 19000: loss = 1473.701416015625\n",
      "step = 19000: Average Return = 200.0\n",
      "step = 19200: loss = 135.0766143798828\n",
      "step = 19400: loss = 408.56280517578125\n",
      "step = 19600: loss = 489.67938232421875\n",
      "step = 19800: loss = 107.77105712890625\n",
      "step = 20000: loss = 753.5126953125\n",
      "step = 20000: Average Return = 200.0\n"
     ]
    }
   ],
   "source": [
    "try:\n",
    "  %%time\n",
    "except:\n",
    "  pass\n",
    "# (Optional) Optimize by wrapping some of the code in a graph using TF function.\n",
    "agent.train = common.function(agent.train)\n",
    "\n",
    "# Reset the train step\n",
    "agent.train_step_counter.assign(0)\n",
    "\n",
    "# Evaluate the agent's policy once before training.\n",
    "avg_return = compute_avg_return(eval_env, agent.policy, num_eval_episodes)\n",
    "returns = [avg_return]\n",
    "\n",
    "for _ in range(num_iterations):\n",
    "\n",
    "  # Collect a few steps using collect_policy and save to the replay buffer.\n",
    "  collect_data(train_env, agent.collect_policy, replay_buffer, collect_steps_per_iteration)\n",
    "\n",
    "  # Sample a batch of data from the buffer and update the agent's network.\n",
    "  experience, unused_info = next(iterator)\n",
    "  train_loss = agent.train(experience).loss\n",
    "\n",
    "  step = agent.train_step_counter.numpy()\n",
    "\n",
    "  if step % log_interval == 0:\n",
    "    print('step = {0}: loss = {1}'.format(step, train_loss))\n",
    "\n",
    "  if step % eval_interval == 0:\n",
    "    avg_return = compute_avg_return(eval_env, agent.policy, num_eval_episodes)\n",
    "    print('step = {0}: Average Return = {1}'.format(step, avg_return))\n",
    "    returns.append(avg_return)"
   ]
  },
  {
   "cell_type": "markdown",
   "metadata": {},
   "source": [
    "# Visualization"
   ]
  },
  {
   "cell_type": "code",
   "execution_count": 15,
   "metadata": {},
   "outputs": [
    {
     "data": {
      "text/plain": [
       "(6.484999799728394, 250.0)"
      ]
     },
     "execution_count": 15,
     "metadata": {},
     "output_type": "execute_result"
    },
    {
     "data": {
      "image/png": "[encoded data removed]",
      "text/plain": [
       "<Figure size 432x288 with 1 Axes>"
      ]
     },
     "metadata": {
      "needs_background": "light"
     },
     "output_type": "display_data"
    }
   ],
   "source": [
    "iterations = range(0, num_iterations + 1, eval_interval)\n",
    "plt.plot(iterations, returns)\n",
    "plt.ylabel('Average Return')\n",
    "plt.xlabel('Iterations')\n",
    "plt.ylim(top=250)\n",
    "\n"
   ]
  },
  {
   "cell_type": "markdown",
   "metadata": {},
   "source": [
    "# Reference\n",
    "https://www.tensorflow.org/agents/tutorials/1_dqn_tutorial"
   ]
  }
 ],
 "metadata": {
  "kernelspec": {
   "display_name": "Python 3",
   "language": "python",
   "name": "python3"
  },
  "language_info": {
   "codemirror_mode": {
    "name": "ipython",
    "version": 3
   },
   "file_extension": ".py",
   "mimetype": "text/x-python",
   "name": "python",
   "nbconvert_exporter": "python",
   "pygments_lexer": "ipython3",
   "version": "3.8.3"
  }
 },
 "nbformat": 4,
 "nbformat_minor": 4
}
