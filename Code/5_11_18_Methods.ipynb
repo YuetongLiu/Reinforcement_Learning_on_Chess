{
 "cells": [
  {
   "cell_type": "markdown",
   "metadata": {},
   "source": [
    "# Approaches\n",
    "\n",
    "According to Vincent François-Lavet, Peter Henderson, Riashat Islam, Marc G. Bellemare and Joelle\n",
    "Pineau (2018), there are three major approaches to solve reinforcement learning problem. \n",
    "\n",
    "## Value Funtion \n",
    "\n",
    "In naive Q learning, we can memorize Q∗(.) for all state-action pairs in Q-learning. However, the dictonary grows fast, so we use functions with parameter θ to approximate Q values and this is called function approximation.\n",
    "\n",
    "* Q-Learning Network in CartPole https://www.tensorflow.org/agents/tutorials/1_dqn_tutorial\n",
    "\n",
    "## Policy gradient methods \n",
    "\n",
    "Always combine with Value Function. \n",
    "Optimize policy parameters θ using stochastic gradient descent.\n",
    "\n",
    "* Monte-Carlo Policy Gradient in CartPole  https://lilianweng.github.io/lil-log/2018/05/05/implementing-deep-reinforcement-learning-models.html#monte-carlo-policy-gradient\n",
    "\n",
    "* Temporal Difference Learning in backgammon https://github.com/fomorians/td-gammon\n",
    "\n",
    "## Model-based \n",
    "\n",
    "Best when MDP can't be learned.\n",
    "\n",
    "* Monte Carlo Tree Search https://github.com/DylanSnyder31/AlphaZero-Chess\n",
    "\n",
    "### Markov decision process(MDP)\n",
    "The Markov property means that the future of the process only depends on the current observation, and the agent has no interest in looking at the full history."
   ]
  },
  {
   "cell_type": "markdown",
   "metadata": {},
   "source": [
    "# Code Source\n",
    "\n",
    "Most projects are coded in tensorflow==1.X.X, which is no longer available in Python 3.8. To run these code, either build a vertual environemnt in python 3.6-3.7 or upgrade the code. https://www.tensorflow.org/guide/upgrade"
   ]
  }
 ],
 "metadata": {
  "kernelspec": {
   "display_name": "Python 3",
   "language": "python",
   "name": "python3"
  },
  "language_info": {
   "codemirror_mode": {
    "name": "ipython",
    "version": 3
   },
   "file_extension": ".py",
   "mimetype": "text/x-python",
   "name": "python",
   "nbconvert_exporter": "python",
   "pygments_lexer": "ipython3",
   "version": "3.8.3"
  }
 },
 "nbformat": 4,
 "nbformat_minor": 4
}
