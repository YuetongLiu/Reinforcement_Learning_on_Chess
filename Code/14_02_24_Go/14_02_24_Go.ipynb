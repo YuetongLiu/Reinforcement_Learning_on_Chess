{
 "cells": [
  {
   "cell_type": "markdown",
   "metadata": {},
   "source": [
    "# Install"
   ]
  },
  {
   "cell_type": "code",
   "execution_count": 5,
   "metadata": {},
   "outputs": [
    {
     "data": {
      "text/plain": [
       "'/Users/yuetongliu/Desktop/Reinforcement_Learning_on_Chess/Code/14_02_24_Go/GymGo-master'"
      ]
     },
     "execution_count": 5,
     "metadata": {},
     "output_type": "execute_result"
    }
   ],
   "source": [
    "import os\n",
    "os.chdir('./GymGo-master')"
   ]
  },
  {
   "cell_type": "code",
   "execution_count": 6,
   "metadata": {},
   "outputs": [
    {
     "name": "stdout",
     "output_type": "stream",
     "text": [
      "Obtaining file:///Users/yuetongliu/Desktop/Reinforcement_Learning_on_Chess/Code/14_02_24_Go/GymGo-master\n",
      "Collecting gym\n",
      "  Downloading gym-0.18.0.tar.gz (1.6 MB)\n",
      "\u001b[K     |████████████████████████████████| 1.6 MB 3.3 MB/s eta 0:00:01\n",
      "\u001b[?25hRequirement already satisfied: scipy in /opt/anaconda3/lib/python3.8/site-packages (from gym->gym-go==0.0.1) (1.5.2)\n",
      "Requirement already satisfied: numpy>=1.10.4 in /opt/anaconda3/lib/python3.8/site-packages (from gym->gym-go==0.0.1) (1.19.2)\n",
      "Collecting pyglet<=1.5.0,>=1.4.0\n",
      "  Downloading pyglet-1.5.0-py2.py3-none-any.whl (1.0 MB)\n",
      "\u001b[K     |████████████████████████████████| 1.0 MB 9.2 MB/s eta 0:00:01\n",
      "\u001b[?25hCollecting Pillow<=7.2.0\n",
      "  Downloading Pillow-7.2.0-cp38-cp38-macosx_10_10_x86_64.whl (2.2 MB)\n",
      "\u001b[K     |████████████████████████████████| 2.2 MB 15.9 MB/s eta 0:00:01\n",
      "\u001b[?25hRequirement already satisfied: cloudpickle<1.7.0,>=1.2.0 in /opt/anaconda3/lib/python3.8/site-packages (from gym->gym-go==0.0.1) (1.6.0)\n",
      "Requirement already satisfied: future in /opt/anaconda3/lib/python3.8/site-packages (from pyglet<=1.5.0,>=1.4.0->gym->gym-go==0.0.1) (0.18.2)\n",
      "Building wheels for collected packages: gym\n",
      "  Building wheel for gym (setup.py) ... \u001b[?25ldone\n",
      "\u001b[?25h  Created wheel for gym: filename=gym-0.18.0-py3-none-any.whl size=1656445 sha256=971f6e92af07ec0390ca3cfd53a0e68f5687fd4fc31d0faf20fdaae340e67a4a\n",
      "  Stored in directory: /Users/yuetongliu/Library/Caches/pip/wheels/d8/e7/68/a3f0f1b5831c9321d7523f6fd4e0d3f83f2705a1cbd5daaa79\n",
      "Successfully built gym\n",
      "Installing collected packages: pyglet, Pillow, gym, gym-go\n",
      "  Attempting uninstall: Pillow\n",
      "    Found existing installation: Pillow 8.0.1\n",
      "    Uninstalling Pillow-8.0.1:\n",
      "      Successfully uninstalled Pillow-8.0.1\n",
      "  Running setup.py develop for gym-go\n",
      "Successfully installed Pillow-7.2.0 gym-0.18.0 gym-go pyglet-1.5.0\n"
     ]
    }
   ],
   "source": [
    "! pip install -e ."
   ]
  },
  {
   "cell_type": "markdown",
   "metadata": {},
   "source": [
    "# Rules\n",
    "1. The board is empty at the onset of the game (unless players agree to place a handicap).\n",
    "2. Black makes the first move, after which White and Black alternate.\n",
    "3. A move consists of placing one stone of one's own color on an empty intersection on the board.\n",
    "4. A player may pass their turn at any time.\n",
    "5. A stone or solidly connected group of stones of one color is captured and removed from the board when all the intersections directly adjacent to it are occupied by the enemy. (Capture of the enemy takes precedence over self-capture.)\n",
    "6. No stone may be played so as to recreate a former board position.\n",
    "7. Two consecutive passes end the game.\n",
    "8. A player's area consists of all the points the player has either occupied or surrounded.\n",
    "9. The player with more area wins."
   ]
  },
  {
   "cell_type": "markdown",
   "metadata": {},
   "source": [
    "# Visulization"
   ]
  },
  {
   "cell_type": "code",
   "execution_count": 48,
   "metadata": {},
   "outputs": [
    {
     "name": "stdout",
     "output_type": "stream",
     "text": [
      "    0   1   2\n",
      "  -------------\n",
      "0 | . | B | . |\n",
      "  -------------\n",
      "1 | W | . | B |\n",
      "  -------------\n",
      "2 | . | . | . |\n",
      "  -------------\n",
      "\tTurn: W, Last Turn Passed: False, Game Over: 0\n",
      "\tBlack Area: 3.0, White Area: 1.0\n",
      "\n"
     ]
    }
   ],
   "source": [
    "import gym\n",
    "\n",
    "go_env = gym.make('gym_go:go-v0', size=3, komi=0, reward_method='heuristic')\n",
    "\n",
    "first_action = (0,1)\n",
    "second_action = (1,0)\n",
    "third_action = (1,2)\n",
    "state, reward, done, info = go_env.step(first_action)\n",
    "state, reward, done, info = go_env.step(second_action)\n",
    "state, reward, done, info = go_env.step(third_action)\n",
    "go_env.render('terminal')"
   ]
  },
  {
   "cell_type": "markdown",
   "metadata": {},
   "source": [
    "# Reward \n",
    "\n",
    "The reward methods are in black's perspective\n",
    "\n",
    "**Real:**\n",
    "\n",
    "-1 - White won\n",
    "\n",
    "0 - Game is tied\n",
    "\n",
    "1 - Black won\n",
    "\n",
    "**Heuristic:**\n",
    "\n",
    "If the game is ongoing, the reward is black area - white area. If black won, the reward is BOARD_SIZE^2. If white won, the reward is -BOARD_SIZE^2. If tied, the reward is 0."
   ]
  },
  {
   "cell_type": "code",
   "execution_count": 46,
   "metadata": {},
   "outputs": [
    {
     "data": {
      "text/plain": [
       "1.0"
      ]
     },
     "execution_count": 46,
     "metadata": {},
     "output_type": "execute_result"
    }
   ],
   "source": [
    "reward"
   ]
  },
  {
   "cell_type": "markdown",
   "metadata": {},
   "source": [
    "# State\n",
    "The state object that is returned by the reset and step functions of the environment is a 6 x BOARD_SIZE x BOARD_SIZE numpy array. All values in the array are either 0 or 1\n",
    "\n",
    "First channel: represent the black pieces.\n",
    "\n",
    "Second channel: represent the white pieces.\n",
    "\n",
    "Third channel: Indicator layer for whose turn it is.\n",
    "\n",
    "Fourth channel: Invalid moves (including ko-protection) for the next action.\n",
    "\n",
    "Fifth channel: Indicator layer for whether the previous move was a pass.\n",
    "\n",
    "Sixth channel: Indicator layer for whether the game is over."
   ]
  },
  {
   "cell_type": "code",
   "execution_count": 34,
   "metadata": {},
   "outputs": [
    {
     "data": {
      "text/plain": [
       "array([[[0., 1., 0.],\n",
       "        [0., 0., 1.],\n",
       "        [0., 0., 0.]],\n",
       "\n",
       "       [[0., 0., 0.],\n",
       "        [1., 0., 0.],\n",
       "        [0., 0., 0.]],\n",
       "\n",
       "       [[1., 1., 1.],\n",
       "        [1., 1., 1.],\n",
       "        [1., 1., 1.]],\n",
       "\n",
       "       [[0., 1., 1.],\n",
       "        [1., 0., 1.],\n",
       "        [0., 0., 0.]],\n",
       "\n",
       "       [[0., 0., 0.],\n",
       "        [0., 0., 0.],\n",
       "        [0., 0., 0.]],\n",
       "\n",
       "       [[0., 0., 0.],\n",
       "        [0., 0., 0.],\n",
       "        [0., 0., 0.]]])"
      ]
     },
     "execution_count": 34,
     "metadata": {},
     "output_type": "execute_result"
    }
   ],
   "source": [
    "state"
   ]
  },
  {
   "cell_type": "markdown",
   "metadata": {},
   "source": [
    "# Action\n",
    "The step function takes in the action to execute and can be in the following forms:\n",
    "\n",
    "a tuple/list of 2 integers representing the row and column or None for passing"
   ]
  },
  {
   "cell_type": "code",
   "execution_count": 53,
   "metadata": {},
   "outputs": [
    {
     "data": {
      "text/plain": [
       "array([[0., 1., 1.],\n",
       "       [1., 0., 1.],\n",
       "       [0., 0., 0.]])"
      ]
     },
     "execution_count": 53,
     "metadata": {},
     "output_type": "execute_result"
    }
   ],
   "source": [
    "action = state[3]"
   ]
  },
  {
   "cell_type": "markdown",
   "metadata": {},
   "source": [
    "TODO: define value funtion for state and action"
   ]
  }
 ],
 "metadata": {
  "kernelspec": {
   "display_name": "Python 3",
   "language": "python",
   "name": "python3"
  },
  "language_info": {
   "codemirror_mode": {
    "name": "ipython",
    "version": 3
   },
   "file_extension": ".py",
   "mimetype": "text/x-python",
   "name": "python",
   "nbconvert_exporter": "python",
   "pygments_lexer": "ipython3",
   "version": "3.8.5"
  }
 },
 "nbformat": 4,
 "nbformat_minor": 4
}
