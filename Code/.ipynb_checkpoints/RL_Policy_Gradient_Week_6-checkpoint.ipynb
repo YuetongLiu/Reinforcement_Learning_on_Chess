{
 "cells": [
  {
   "cell_type": "markdown",
   "metadata": {},
   "source": [
    "These methods optimize\n",
    "a performance objective (typically the expected cumulative reward $G_t$)\n",
    "by finding a good policy (e.g a neural network parameterized policy)\n",
    "thanks to variants of stochastic gradient ascent with respect to the policy\n",
    "parameters."
   ]
  },
  {
   "cell_type": "code",
   "execution_count": null,
   "metadata": {},
   "outputs": [],
   "source": [
    "import gym\n",
    "import numpy as np\n",
    "import matplotlib.pyplot as plt\n",
    "import copy "
   ]
  },
  {
   "cell_type": "code",
   "execution_count": 52,
   "metadata": {},
   "outputs": [],
   "source": [
    "#Hyperparameters\n",
    "NUM_EPISODES = 10000\n",
    "LEARNING_RATE = 0.000025 # controls the rate or speed at which the model learns (step)\n",
    "GAMMA = 0.99 #discount factor, setting high for future reward.\n",
    "\n",
    "# Create gym and seed numpy\n",
    "env = gym.make('CartPole-v0')\n",
    "nA = env.action_space.n # number of possible moves\n",
    "np.random.seed(1)\n",
    "\n",
    "# Init weight (random)\n",
    "w = np.random.rand(4, 2) \n",
    "\n",
    "# Keep stats for final print of graph\n",
    "episode_rewards = []"
   ]
  },
  {
   "cell_type": "markdown",
   "metadata": {},
   "source": [
    "Softmax function: The softmax function takes an N-dimensional vector of arbitrary real values and produces another N-dimensional vector with real values in the range (0, 1) that add up to 1.0. (Time homogeneous?)\n",
    "\n",
    "$Softmax(s)=\\frac{e^{s*w}}{\\sum e^{s*w}}$\n",
    "\n"
   ]
  },
  {
   "cell_type": "code",
   "execution_count": null,
   "metadata": {},
   "outputs": [],
   "source": [
    "# Our policy that maps state to action parameterized by w \n",
    "def policy(state,w):\n",
    "    z = state.dot(w)\n",
    "    exp = np.exp(z)\n",
    "    return exp/np.sum(exp)"
   ]
  },
  {
   "cell_type": "code",
   "execution_count": 32,
   "metadata": {},
   "outputs": [],
   "source": [
    "# Vectorized softmax Jacobian\n",
    "def softmax_grad(softmax):\n",
    "    s = softmax.reshape(-1,1)\n",
    "    return np.diagflat(s) - np.dot(s, s.T)"
   ]
  },
  {
   "cell_type": "code",
   "execution_count": 19,
   "metadata": {},
   "outputs": [
    {
     "name": "stdout",
     "output_type": "stream",
     "text": [
      "EP: 9999 Score: 200.0         \r"
     ]
    },
    {
     "ename": "NameError",
     "evalue": "name 'num_episodes' is not defined",
     "output_type": "error",
     "traceback": [
      "\u001b[0;31m---------------------------------------------------------------------------\u001b[0m",
      "\u001b[0;31mNameError\u001b[0m                                 Traceback (most recent call last)",
      "\u001b[0;32m<ipython-input-19-bdb4455b82c3>\u001b[0m in \u001b[0;36m<module>\u001b[0;34m\u001b[0m\n\u001b[1;32m     79\u001b[0m     \u001b[0mprint\u001b[0m\u001b[0;34m(\u001b[0m\u001b[0;34m\"EP: \"\u001b[0m \u001b[0;34m+\u001b[0m \u001b[0mstr\u001b[0m\u001b[0;34m(\u001b[0m\u001b[0me\u001b[0m\u001b[0;34m)\u001b[0m \u001b[0;34m+\u001b[0m \u001b[0;34m\" Score: \"\u001b[0m \u001b[0;34m+\u001b[0m \u001b[0mstr\u001b[0m\u001b[0;34m(\u001b[0m\u001b[0mscore\u001b[0m\u001b[0;34m)\u001b[0m \u001b[0;34m+\u001b[0m \u001b[0;34m\"         \"\u001b[0m\u001b[0;34m,\u001b[0m\u001b[0mend\u001b[0m\u001b[0;34m=\u001b[0m\u001b[0;34m\"\\r\"\u001b[0m\u001b[0;34m,\u001b[0m \u001b[0mflush\u001b[0m\u001b[0;34m=\u001b[0m\u001b[0;32mFalse\u001b[0m\u001b[0;34m)\u001b[0m\u001b[0;34m\u001b[0m\u001b[0;34m\u001b[0m\u001b[0m\n\u001b[1;32m     80\u001b[0m \u001b[0;34m\u001b[0m\u001b[0m\n\u001b[0;32m---> 81\u001b[0;31m \u001b[0mplt\u001b[0m\u001b[0;34m.\u001b[0m\u001b[0mplot\u001b[0m\u001b[0;34m(\u001b[0m\u001b[0mnp\u001b[0m\u001b[0;34m.\u001b[0m\u001b[0marange\u001b[0m\u001b[0;34m(\u001b[0m\u001b[0mnum_episodes\u001b[0m\u001b[0;34m)\u001b[0m\u001b[0;34m,\u001b[0m\u001b[0mepisode_rewards\u001b[0m\u001b[0;34m)\u001b[0m\u001b[0;34m\u001b[0m\u001b[0;34m\u001b[0m\u001b[0m\n\u001b[0m\u001b[1;32m     82\u001b[0m \u001b[0mplt\u001b[0m\u001b[0;34m.\u001b[0m\u001b[0mshow\u001b[0m\u001b[0;34m(\u001b[0m\u001b[0;34m)\u001b[0m\u001b[0;34m\u001b[0m\u001b[0;34m\u001b[0m\u001b[0m\n\u001b[1;32m     83\u001b[0m \u001b[0menv\u001b[0m\u001b[0;34m.\u001b[0m\u001b[0mclose\u001b[0m\u001b[0;34m(\u001b[0m\u001b[0;34m)\u001b[0m\u001b[0;34m\u001b[0m\u001b[0;34m\u001b[0m\u001b[0m\n",
      "\u001b[0;31mNameError\u001b[0m: name 'num_episodes' is not defined"
     ]
    }
   ],
   "source": [
    "# Main loop \n",
    "# Make sure you update your weights AFTER each episode\n",
    "for e in range(NUM_EPISODES):\n",
    "    \n",
    "    state = env.reset()[None,:]\n",
    "    grads = [] # Gradient\n",
    "    rewards = []\n",
    "    \n",
    "    # Keep track of game score to print\n",
    "    score = 0\n",
    "    \n",
    "    # Each Episodes\n",
    "    while True:\n",
    "        \n",
    "        # Uncomment to see your model train in real time (slower)\n",
    "        #env.render()\n",
    "        \n",
    "        # Sample from policy and take action in environment\n",
    "        probs = policy(state,w) \n",
    "        action = np.random.choice(nA,p=probs[0]) \n",
    "        next_state,reward,done,_ = env.step(action) \n",
    "        next_state = next_state[None,:] \n",
    "\n",
    "        # Compute gradient and save with reward in memory for our weight updates\n",
    "        dsoftmax = softmax_grad(probs)[action,:]\n",
    "        dlog = dsoftmax / probs[0,action]\n",
    "        grad = state.T.dot(dlog[None,:])\n",
    "\n",
    "        grads.append(grad)\n",
    "        rewards.append(reward)\n",
    "        \n",
    "        score+=reward\n",
    "\n",
    "        # Dont forget to update your old state to the new state\n",
    "        state = next_state\n",
    "        \n",
    "        if done:\n",
    "            break\n",
    "\n",
    "    # Weight update\n",
    "    for i in range(len(grads)):\n",
    "        \n",
    "        # Loop through everything that happend in the episode and update towards the log policy gradient times **FUTURE** reward\n",
    "        w += LEARNING_RATE * grads[i] * sum([ r * (GAMMA ** r) for t,r in enumerate(rewards[i:])])\n",
    "\n",
    "    # Append for logging and print\n",
    "    episode_rewards.append(score) \n",
    "    print(\"EP: \" + str(e) + \" Score: \" + str(score) + \"         \",end=\"\\r\", flush=False) \n"
   ]
  },
  {
   "cell_type": "code",
   "execution_count": 20,
   "metadata": {},
   "outputs": [
    {
     "data": {
      "image/png": "[encoded data removed]",
      "text/plain": [
       "<Figure size 432x288 with 1 Axes>"
      ]
     },
     "metadata": {
      "needs_background": "light"
     },
     "output_type": "display_data"
    }
   ],
   "source": [
    "plt.plot(np.arange(NUM_EPISODES),episode_rewards)\n",
    "plt.show()\n",
    "env.close()"
   ]
  },
  {
   "cell_type": "code",
   "execution_count": null,
   "metadata": {},
   "outputs": [],
   "source": []
  }
 ],
 "metadata": {
  "kernelspec": {
   "display_name": "Python 3",
   "language": "python",
   "name": "python3"
  },
  "language_info": {
   "codemirror_mode": {
    "name": "ipython",
    "version": 3
   },
   "file_extension": ".py",
   "mimetype": "text/x-python",
   "name": "python",
   "nbconvert_exporter": "python",
   "pygments_lexer": "ipython3",
   "version": "3.8.3"
  }
 },
 "nbformat": 4,
 "nbformat_minor": 4
}
