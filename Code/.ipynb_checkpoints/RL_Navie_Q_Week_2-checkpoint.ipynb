{
 "cells": [
  {
   "cell_type": "markdown",
   "metadata": {},
   "source": [
    "# Setup Environment"
   ]
  },
  {
   "cell_type": "code",
   "execution_count": 1,
   "metadata": {},
   "outputs": [],
   "source": [
    "import gym\n",
    "import numpy as np\n",
    "from gym import spaces\n",
    "env = gym.make(\"CartPole-v0\")"
   ]
  },
  {
   "cell_type": "markdown",
   "metadata": {},
   "source": [
    "# Warpper\n",
    "\n",
    "Most gym environment have space in multi-dimension (Box format). To save memory, we apply a wrapper to discretize the observation. \n",
    "\n",
    "env.unwrapped will give back the internal original environment object."
   ]
  },
  {
   "cell_type": "code",
   "execution_count": 2,
   "metadata": {},
   "outputs": [],
   "source": [
    "class DiscretizedObservationWrapper(gym.ObservationWrapper):\n",
    "    \"\"\"This wrapper converts a Box observation into a single integer.\n",
    "    \"\"\"\n",
    "    def __init__(self, env, n_bins=10, low=None, high=None):\n",
    "        super().__init__(env)\n",
    "        assert isinstance(env.observation_space, gym.spaces.Box)\n",
    "\n",
    "        low = self.observation_space.low if low is None else low\n",
    "        high = self.observation_space.high if high is None else high\n",
    "\n",
    "        self.n_bins = n_bins\n",
    "        self.val_bins = [np.linspace(l, h, n_bins + 1) for l, h in\n",
    "                         zip(low, high)]\n",
    "        self.observation_space = gym.spaces.Discrete(n_bins ** len(low))\n",
    "\n",
    "    def _convert_to_one_number(self, digits):\n",
    "        return sum([d * ((self.n_bins + 1) ** i) for i, d in enumerate(digits)])\n",
    "\n",
    "    def observation(self, observation):\n",
    "        digits = [np.digitize([x], bins)[0]\n",
    "                  for x, bins in zip(observation, self.val_bins)]\n",
    "        return self._convert_to_one_number(digits)\n",
    "\n",
    "\n",
    "env = DiscretizedObservationWrapper(\n",
    "    env, \n",
    "    n_bins=8, \n",
    "    low=[-2.4, -2.0, -0.42, -3.5], \n",
    "    high=[2.4, 2.0, 0.42, 3.5]\n",
    ")"
   ]
  },
  {
   "cell_type": "markdown",
   "metadata": {},
   "source": [
    "# Naive Q-Learning\n",
    "\n",
    "The key point of Naive Q-learning is while estimating what is the next action, it does not follow the current policy but rather adopt the best Q value independently. Here is the Bellman equation we will use.\n",
    "\n",
    "$Q(s,a)←(1−α)Q(s,a)+α(r+γ*maxQ(s′,a′))$\n"
   ]
  },
  {
   "cell_type": "markdown",
   "metadata": {},
   "source": [
    "## Calculate and Update Q value\n",
    "\n",
    "The Q value for all (s, a) pairs can be simply tracked in a dict."
   ]
  },
  {
   "cell_type": "code",
   "execution_count": 3,
   "metadata": {},
   "outputs": [],
   "source": [
    "from collections import defaultdict\n",
    "\n",
    "Q = defaultdict(float)\n",
    "\n",
    "gamma = 0.99  # Discounting factor\n",
    "alpha = 0.5  # soft update param\n",
    "actions = range(env.action_space.n) # all possible actions\n",
    "\n",
    "# Calculate Q Value    \n",
    "def update_Q(s, r, a, s_next, done):\n",
    "    # s: observations\n",
    "    # r: reward \n",
    "    # a: actions\n",
    "    # s_next: same as s\n",
    "    # done: bool\n",
    "    \n",
    "    max_q_next = max([Q[s_next, a] for a in actions])  # get max Q value of (s', a')\n",
    "    \n",
    "    # Do not include the next state's value if currently at the terminal state.\n",
    "    Q[s, a] += alpha * (r + gamma * max_q_next * (1.0 - done) - Q[s, a]) # the Bellman equation to update Q value. \n",
    "    # If done is True, Q(s,a) = (1-alpha)*Q(s,a)\n",
    "\n"
   ]
  },
  {
   "cell_type": "markdown",
   "metadata": {},
   "source": [
    "## Pick Action \n",
    "\n",
    "Action is decided based on max Q value and we use ε-greedy to force exploration."
   ]
  },
  {
   "cell_type": "code",
   "execution_count": 4,
   "metadata": {},
   "outputs": [],
   "source": [
    "epsilon = 0.1  # 10% chances to apply a random action\n",
    "\n",
    "def act(ob): \n",
    "    if np.random.random() < epsilon:\n",
    "        # action_space.sample() is a convenient function to get a random action\n",
    "        # that is compatible with this given action space.\n",
    "        return env.action_space.sample()\n",
    "\n",
    "    # Pick the action with highest q value.\n",
    "    qvals = {a: Q[ob, a] for a in actions}\n",
    "    max_q = max(qvals.values())  # get best Q value \n",
    "    # In case multiple actions have the same maximum q value.\n",
    "    actions_with_max_q = [a for a, q in qvals.items() if q == max_q] # range(2); max_q\n",
    "    return np.random.choice(actions_with_max_q)\n",
    "\n"
   ]
  },
  {
   "cell_type": "markdown",
   "metadata": {},
   "source": [
    "## Result\n",
    "\n",
    "Compare the total reward using Naive Q-learning and random play."
   ]
  },
  {
   "cell_type": "code",
   "execution_count": 6,
   "metadata": {},
   "outputs": [],
   "source": [
    "n_steps = 10000\n",
    "\n",
    "ob = env.reset()\n",
    "rewards = [] # reward for each round \n",
    "reward = 0.0 # total reward in one round\n",
    "\n",
    "for step in range(n_steps):\n",
    "    #env.render()\n",
    "    a = act(ob)\n",
    "    ob_next, r, done, _ = env.step(a)\n",
    "    update_Q(ob, r, a, ob_next, done)\n",
    "    reward += r\n",
    "    if done:\n",
    "        rewards.append(reward)\n",
    "        reward = 0.0\n",
    "        ob = env.reset()\n",
    "    else:\n",
    "        ob = ob_next\n",
    "env.close()\n",
    "        \n"
   ]
  },
  {
   "cell_type": "code",
   "execution_count": 7,
   "metadata": {},
   "outputs": [],
   "source": [
    "n_steps = 10000\n",
    "\n",
    "ob = env.reset()\n",
    "rewards_r = [] # reward for each round \n",
    "reward = 0.0 # total reward in one round\n",
    "for step in range(n_steps):\n",
    "    #env.render()\n",
    "    \n",
    "    ob_next, r, done, _ = env.step(env.action_space.sample())\n",
    "    reward += r\n",
    "    if done:\n",
    "        rewards_r.append(reward)\n",
    "        reward = 0.0\n",
    "        ob = env.reset()\n",
    "    else:\n",
    "        ob = ob_next\n",
    "        \n",
    "env.close()"
   ]
  },
  {
   "cell_type": "code",
   "execution_count": 14,
   "metadata": {},
   "outputs": [
    {
     "data": {
      "text/plain": [
       "Text(0.5, 1.0, 'reward for naive_q')"
      ]
     },
     "execution_count": 14,
     "metadata": {},
     "output_type": "execute_result"
    },
    {
     "data": {
      "image/png": "[encoded data removed]",
      "text/plain": [
       "<Figure size 432x288 with 1 Axes>"
      ]
     },
     "metadata": {
      "needs_background": "light"
     },
     "output_type": "display_data"
    }
   ],
   "source": [
    "import seaborn as sns\n",
    "sns.boxplot(x=rewards).set_title('reward for naive_q')\n",
    "\n"
   ]
  },
  {
   "cell_type": "code",
   "execution_count": 15,
   "metadata": {},
   "outputs": [
    {
     "data": {
      "text/plain": [
       "Text(0.5, 1.0, 'reward for random')"
      ]
     },
     "execution_count": 15,
     "metadata": {},
     "output_type": "execute_result"
    },
    {
     "data": {
      "image/png": "[encoded data removed]",
      "text/plain": [
       "<Figure size 432x288 with 1 Axes>"
      ]
     },
     "metadata": {
      "needs_background": "light"
     },
     "output_type": "display_data"
    }
   ],
   "source": [
    "sns.boxplot(x=rewards_r).set_title('reward for random')"
   ]
  },
  {
   "cell_type": "markdown",
   "metadata": {},
   "source": [
    "As we can see from the plot, there is a significant increase on reward after applying Naive Q_learning method. "
   ]
  }
 ],
 "metadata": {
  "kernelspec": {
   "display_name": "Python 3",
   "language": "python",
   "name": "python3"
  },
  "language_info": {
   "codemirror_mode": {
    "name": "ipython",
    "version": 3
   },
   "file_extension": ".py",
   "mimetype": "text/x-python",
   "name": "python",
   "nbconvert_exporter": "python",
   "pygments_lexer": "ipython3",
   "version": "3.8.3"
  }
 },
 "nbformat": 4,
 "nbformat_minor": 4
}
